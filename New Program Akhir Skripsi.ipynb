{
 "cells": [
  {
   "cell_type": "code",
   "execution_count": 1,
   "id": "545c9412",
   "metadata": {},
   "outputs": [
    {
     "name": "stdout",
     "output_type": "stream",
     "text": [
      "kunci publik berhasil disimpan\n",
      "kunci privat berhasil disimpan\n",
      "Bobot vektor error sesuai dengan parameter t.\n"
     ]
    }
   ],
   "source": [
    "import galois\n",
    "import numpy as np\n",
    "from galois import GF\n",
    "represent_galois = galois.GF(2**4)\n",
    "galois_field = GF(2**4)\n",
    "field_size = 2**4\n",
    "\n",
    "#Parameter kode\n",
    "\n",
    "rs = galois.ReedSolomon(15, 9)\n",
    "n = rs.n\n",
    "k = rs.k\n",
    "t = rs.t\n",
    "\n",
    "#Pembangkitan kunci\n",
    "\n",
    "matriks_generator = rs.G\n",
    "G = galois_field(matriks_generator)\n",
    "\n",
    "def generate_non_singular_matrix(k):\n",
    "    matrix = np.zeros((k, k), dtype=int)\n",
    "    \n",
    "    while np.linalg.matrix_rank(matrix) != k:\n",
    "        matrix = np.random.randint(0, field_size , size=(k, k))\n",
    "\n",
    "    return matrix\n",
    "\n",
    "matriks_non_singular = generate_non_singular_matrix(k)\n",
    "S = galois_field(matriks_non_singular)\n",
    "Sinv = np.linalg.inv(S)\n",
    "\n",
    "def generate_permutation_matrix(n):\n",
    "    permutation_indices = np.random.permutation(range(n))\n",
    "    permutation_matrix = np.zeros((n, n), dtype=int)\n",
    "    permutation_matrix[np.arange(n), permutation_indices] = 1\n",
    "\n",
    "    return permutation_matrix\n",
    "\n",
    "matriks_permutasi = generate_permutation_matrix(n)\n",
    "P = galois_field(matriks_permutasi)\n",
    "Pinv = np.linalg.inv(P)\n",
    "\n",
    "matrix = np.matmul(S, G)\n",
    "PK = np.matmul(matrix, P)\n",
    "\n",
    "def mceliece_key_gen(public_key_mceliece, private_key_mceliece):\n",
    "    G = galois_field(matriks_generator)\n",
    "    S = galois_field(matriks_non_singular)\n",
    "    P = galois_field(matriks_permutasi)\n",
    "    Sinv = np.linalg.inv(S)\n",
    "    Pinv = np.linalg.inv(P)\n",
    "    matrix = np.matmul(S, G)\n",
    "    PK = np.matmul(matrix, P)\n",
    "    public_key_mceliece = PK\n",
    "    private_key_mceliece = S, P, Sinv, Pinv\n",
    "    return public_key_mceliece, private_key_mceliece\n",
    "\n",
    "public_key_mceliece = PK\n",
    "np.savez_compressed('public_key_mceliece.npz', PK=PK)\n",
    "print(\"kunci publik berhasil disimpan\")\n",
    "\n",
    "privat_key_mceliece = (S, P, Sinv, Pinv)\n",
    "np.savez_compressed('private_key_mceliece.npz', S=S, P=P, Sinv=Sinv, Pinv=Pinv)\n",
    "print(\"kunci privat berhasil disimpan\")\n",
    "\n",
    "def convert(message):\n",
    "    alphabet = \"ABCDEFGHIJKLMNOP\"\n",
    "    mapping = {alphabet[i]: i+0 for i in range(len(alphabet))}\n",
    "    convert_m = \"\"\n",
    "\n",
    "    for char in message:\n",
    "        if char.upper() in mapping:\n",
    "            convert_m += str(mapping[char.upper()]) + \" \"\n",
    "        else:\n",
    "            convert_m += char\n",
    "            \n",
    "    return convert_m.strip()\n",
    "\n",
    "    convert_m = convert(message)\n",
    "\n",
    "def padder(convert_m, k):\n",
    "    if len(convert_m.split()) < k:\n",
    "        padding = [0] * (k - len(convert_m.split()))\n",
    "        convert_m += \" \" + \" \".join(map(str, padding))\n",
    "    mvec = [int(x) % field_size for x in convert_m.split()]\n",
    "    symbol = galois_field(mvec)\n",
    "    return symbol\n",
    "\n",
    "    symbol = padder(convert_m, k)\n",
    "\n",
    "#eror\n",
    "\n",
    "field_size = 2**4\n",
    "error_weight = 3\n",
    "error_vector = np.zeros(n, dtype=int)\n",
    "error_indices = np.random.choice(n, error_weight, replace=False)\n",
    "error_values = np.random.randint(1, field_size, error_weight)\n",
    "error_vector[error_indices] = error_values\n",
    "\n",
    "e = galois_field(error_vector)\n",
    "\n",
    "# Memeriksa apakah bobot vektor error sudah sesuai dengan parameter t\n",
    "error_weight = np.count_nonzero(error_vector)\n",
    "if error_weight == t:\n",
    "    print(\"Bobot vektor error sesuai dengan parameter t.\")\n",
    "else:\n",
    "    print(\"Bobot vektor error tidak sesuai dengan parameter t.\")\n",
    "\n",
    "#codeword\n",
    "    c = np.matmul(symbol, PK)\n",
    "    \n",
    "def mceliece_encode(symbol,PK):\n",
    "    e = galois_field(error_vector)\n",
    "    y1 = (c + e)\n",
    "    y = galois_field(y1)\n",
    "    return y\n",
    "\n",
    "    y = mceliece_encode(symbol, PK)\n",
    "\n",
    "def convertion(string):\n",
    "        field_size = 2**4\n",
    "        number_list = list(map(int, string.split()))\n",
    "        convert_value = []\n",
    "\n",
    "        # Loop setiap angka dan pastikan berada dalam rentang 0 hingga 15\n",
    "        for number in number_list:\n",
    "            convert_numb = number % field_size\n",
    "            convert_value.append(convert_numb)\n",
    "\n",
    "        return convert_value\n",
    "\n",
    "def mceliece_decode(y, Sinv, Pinv):\n",
    "    cw = np.matmul(y, Pinv)\n",
    "    d = rs.decode(cw)\n",
    "    x = galois_field(d)\n",
    "    mes = np.matmul(x, Sinv)\n",
    "    return mes\n",
    "\n",
    "    mes = mceliece_decode(y, Sinv, Pinv)\n",
    "\n",
    "def unpadder(mes):\n",
    "    last_zero_index = len(mes)\n",
    "    for i in range(len(mes) - 1, -1, -1):\n",
    "        if mes[i] != 0:\n",
    "            break\n",
    "        last_zero_index = i\n",
    "    unpadded_m = mes[:last_zero_index]\n",
    "\n",
    "    return unpadded_m\n",
    "\n",
    "    unpadded_m = unpadder(mes)\n",
    "\n",
    "def konversi(unpadded_m):\n",
    "    alphabet = \"ABCDEFGHIJKLMNOP\"\n",
    "    mapping = {i+0: alphabet[i] for i in range(len(alphabet))}\n",
    "    ori_message = \"\"\n",
    "    \n",
    "    numbers = unpadded_m.split()\n",
    "    for number in numbers:\n",
    "        try:\n",
    "            ori_message += mapping[int(number)]\n",
    "        except ValueError:\n",
    "            ori_message += number\n",
    "    \n",
    "    return ori_message\n",
    "\n",
    "    unpadded_m = unpadder(mes)\n",
    "    ori_message = konversi(\" \".join(map(str, unpadded_m)))\n",
    "\n",
    "def mceliece_encrypt(file_name, public_key_mceliece):\n",
    "    k = 9 \n",
    "    field_size = 2**4\n",
    "    \n",
    "    file_name = file_name\n",
    "    public_key_mceliece = np.load(public_key_mceliece, allow_pickle=True)\n",
    "    \n",
    "    with open(file_name,\"r\") as file:\n",
    "        message = file.read()\n",
    "        \n",
    "    block = 0\n",
    "    encodeds = []\n",
    "    \n",
    "    convert_m = convert(message)\n",
    "    symbol = padder(convert_m, 9)\n",
    "    encoded = ''\n",
    "    encode = mceliece_encode(symbol, public_key_mceliece)\n",
    "    encode_str = \" \".join(str(i) for i in encode)\n",
    "    block += 1\n",
    "    encodeds.append(encode_str)\n",
    "    print(\"{0} block telah dienkripsi\". format(block))\n",
    "    print('ciphertext:',encode)\n",
    "    fh = open(\"encode_\"+file_name, \"w\")\n",
    "    fh.write(encode_str)\n",
    "    fh.close()\n",
    "    print('string ciphertext:',encode_str)\n",
    "    print(\"Enkripsi selesai\")\n",
    "\n",
    "def mceliece_decrypt(file_name, private_key_mceliece):\n",
    "    field_size = 2**4\n",
    "    \n",
    "    file_name = file_name\n",
    "    private_key_mceliece = np.load(private_key_mceliece, allow_pickle=True)\n",
    "    \n",
    "    with open(file_name,\"r\") as file:\n",
    "        isi = file.read()\n",
    "        \n",
    "    encoded = ''\n",
    "    decodeds = []\n",
    "    block = 0\n",
    "    convert_value = convertion(isi)\n",
    "    galois_convert = galois_field(convert_value)\n",
    "    decode = mceliece_decode(y, Sinv, Pinv)\n",
    "    decode_str = \" \".join(str(i) for i in decode)\n",
    "    block += 1\n",
    "    decodeds.append(decode_str)\n",
    "    print('isi file:', isi)\n",
    "    print('konversi isi dalam vektor:', galois_convert)\n",
    "    print(\"{0} block telah didekripsi dari {1} block\". format(block, block))\n",
    "    print('pesan:',decode)\n",
    "    fh = open(\"decode_\"+file_name, \"w\")\n",
    "    fh.write(ori_message)\n",
    "    fh.close()\n",
    "    print('pesan asli dalam vektor:',unpadded_m)\n",
    "    print('original pesan:',ori_message)\n",
    "    print(\"Dekripsi selesai\")"
   ]
  },
  {
   "cell_type": "code",
   "execution_count": 2,
   "id": "417b60e4",
   "metadata": {},
   "outputs": [
    {
     "name": "stdout",
     "output_type": "stream",
     "text": [
      "[[ 1  0  0  0  0  0  0  0  0 10  3  5 13  1  8]\n",
      " [ 0  1  0  0  0  0  0  0  0 15  1 13  7  5 13]\n",
      " [ 0  0  1  0  0  0  0  0  0 11 11 13  3 10  7]\n",
      " [ 0  0  0  1  0  0  0  0  0  3  2  3  8  4  7]\n",
      " [ 0  0  0  0  1  0  0  0  0  3 10 10  6 15  9]\n",
      " [ 0  0  0  0  0  1  0  0  0  5 11  1  5 15 11]\n",
      " [ 0  0  0  0  0  0  1  0  0  2 11 10  7 14  8]\n",
      " [ 0  0  0  0  0  0  0  1  0 15  9  5  8 15  2]\n",
      " [ 0  0  0  0  0  0  0  0  1  7  9  3 12 10 12]]\n"
     ]
    }
   ],
   "source": [
    "matriks_generator = rs.G\n",
    "G = galois_field(matriks_generator)\n",
    "print(G)"
   ]
  },
  {
   "cell_type": "code",
   "execution_count": 3,
   "id": "e944cab6",
   "metadata": {},
   "outputs": [
    {
     "data": {
      "text/plain": [
       "(GF([[ 6,  9,  0,  5,  7, 13, 12, 15,  6, 10,  6,  2, 10,  1, 10],\n",
       "     [ 4,  1, 12,  3,  0,  2,  0,  7, 15, 12, 14, 11, 13,  6,  4],\n",
       "     [ 9,  2, 15, 10,  0, 10, 14, 11,  2, 10,  8, 13, 11, 10,  9],\n",
       "     [ 0,  5,  0, 14, 14,  3,  6,  2, 12,  1,  6, 14, 12, 10, 13],\n",
       "     [12, 11, 12,  4,  7,  6,  4,  5,  0,  7,  1, 15, 14, 10,  5],\n",
       "     [10, 11,  6,  8,  1,  9, 12, 10, 10,  0,  4, 10,  9,  8, 11],\n",
       "     [10,  5, 10,  8,  5,  5,  2,  3,  2,  4,  2,  1, 10, 14, 12],\n",
       "     [ 5,  0, 10, 13,  2, 11, 12, 15,  1, 12,  3, 15, 13,  8,  3],\n",
       "     [ 8, 13,  3,  6, 15, 14,  7, 15, 14,  6,  9, 13, 11, 12,  4]],\n",
       "    order=2^4),\n",
       " (GF([[15,  5,  2,  7,  6,  6,  6,  9, 10],\n",
       "      [ 7,  3, 11,  0, 15, 14,  4,  1, 12],\n",
       "      [11, 10, 13,  0,  2,  8,  9,  2, 10],\n",
       "      [ 2, 14, 14, 14, 12,  6,  0,  5,  1],\n",
       "      [ 5,  4, 15,  7,  0,  1, 12, 11,  7],\n",
       "      [10,  8, 10,  1, 10,  4, 10, 11,  0],\n",
       "      [ 3,  8,  1,  5,  2,  2, 10,  5,  4],\n",
       "      [15, 13, 15,  2,  1,  3,  5,  0, 12],\n",
       "      [15,  6, 13, 15, 14,  9,  8, 13,  6]], order=2^4),\n",
       "  GF([[0, 0, 0, 0, 0, 0, 0, 1, 0, 0, 0, 0, 0, 0, 0],\n",
       "      [0, 0, 0, 1, 0, 0, 0, 0, 0, 0, 0, 0, 0, 0, 0],\n",
       "      [0, 0, 0, 0, 0, 0, 0, 0, 0, 0, 0, 1, 0, 0, 0],\n",
       "      [0, 0, 0, 0, 1, 0, 0, 0, 0, 0, 0, 0, 0, 0, 0],\n",
       "      [0, 0, 0, 0, 0, 0, 0, 0, 1, 0, 0, 0, 0, 0, 0],\n",
       "      [0, 0, 0, 0, 0, 0, 0, 0, 0, 0, 1, 0, 0, 0, 0],\n",
       "      [1, 0, 0, 0, 0, 0, 0, 0, 0, 0, 0, 0, 0, 0, 0],\n",
       "      [0, 1, 0, 0, 0, 0, 0, 0, 0, 0, 0, 0, 0, 0, 0],\n",
       "      [0, 0, 0, 0, 0, 0, 0, 0, 0, 1, 0, 0, 0, 0, 0],\n",
       "      [0, 0, 1, 0, 0, 0, 0, 0, 0, 0, 0, 0, 0, 0, 0],\n",
       "      [0, 0, 0, 0, 0, 1, 0, 0, 0, 0, 0, 0, 0, 0, 0],\n",
       "      [0, 0, 0, 0, 0, 0, 0, 0, 0, 0, 0, 0, 0, 0, 1],\n",
       "      [0, 0, 0, 0, 0, 0, 0, 0, 0, 0, 0, 0, 1, 0, 0],\n",
       "      [0, 0, 0, 0, 0, 0, 0, 0, 0, 0, 0, 0, 0, 1, 0],\n",
       "      [0, 0, 0, 0, 0, 0, 1, 0, 0, 0, 0, 0, 0, 0, 0]], order=2^4),\n",
       "  GF([[10,  4,  0,  1, 10, 14,  7, 12, 11],\n",
       "      [ 4, 11,  6, 10, 12,  9,  2, 15, 14],\n",
       "      [ 5, 13, 12, 11, 10, 12,  6, 11, 13],\n",
       "      [ 5,  7,  4, 14,  4, 11,  5, 10, 11],\n",
       "      [10,  8, 14, 10, 12,  4,  2, 11, 10],\n",
       "      [12,  4,  6,  9, 13,  2,  5,  1,  3],\n",
       "      [ 0, 14,  0,  6, 10, 13, 12,  1, 13],\n",
       "      [10,  6, 12,  4, 13,  7, 12,  7,  7],\n",
       "      [ 1, 10,  1,  3,  3,  5, 15,  3, 15]], order=2^4),\n",
       "  GF([[0, 0, 0, 0, 0, 0, 1, 0, 0, 0, 0, 0, 0, 0, 0],\n",
       "      [0, 0, 0, 0, 0, 0, 0, 1, 0, 0, 0, 0, 0, 0, 0],\n",
       "      [0, 0, 0, 0, 0, 0, 0, 0, 0, 1, 0, 0, 0, 0, 0],\n",
       "      [0, 1, 0, 0, 0, 0, 0, 0, 0, 0, 0, 0, 0, 0, 0],\n",
       "      [0, 0, 0, 1, 0, 0, 0, 0, 0, 0, 0, 0, 0, 0, 0],\n",
       "      [0, 0, 0, 0, 0, 0, 0, 0, 0, 0, 1, 0, 0, 0, 0],\n",
       "      [0, 0, 0, 0, 0, 0, 0, 0, 0, 0, 0, 0, 0, 0, 1],\n",
       "      [1, 0, 0, 0, 0, 0, 0, 0, 0, 0, 0, 0, 0, 0, 0],\n",
       "      [0, 0, 0, 0, 1, 0, 0, 0, 0, 0, 0, 0, 0, 0, 0],\n",
       "      [0, 0, 0, 0, 0, 0, 0, 0, 1, 0, 0, 0, 0, 0, 0],\n",
       "      [0, 0, 0, 0, 0, 1, 0, 0, 0, 0, 0, 0, 0, 0, 0],\n",
       "      [0, 0, 1, 0, 0, 0, 0, 0, 0, 0, 0, 0, 0, 0, 0],\n",
       "      [0, 0, 0, 0, 0, 0, 0, 0, 0, 0, 0, 0, 1, 0, 0],\n",
       "      [0, 0, 0, 0, 0, 0, 0, 0, 0, 0, 0, 0, 0, 1, 0],\n",
       "      [0, 0, 0, 0, 0, 0, 0, 0, 0, 0, 0, 1, 0, 0, 0]], order=2^4)))"
      ]
     },
     "execution_count": 3,
     "metadata": {},
     "output_type": "execute_result"
    }
   ],
   "source": [
    "mceliece_key_gen(\"public_key_mceliece\", \"private_key_mceliece\")"
   ]
  },
  {
   "cell_type": "code",
   "execution_count": 4,
   "id": "20470cf5",
   "metadata": {},
   "outputs": [
    {
     "name": "stdout",
     "output_type": "stream",
     "text": [
      "b'PK\\x03\\x04\\x14\\x00\\x00\\x00\\x08\\x00\\x00\\x00!\\x00M\\xd0\\xda\\xa1\\xb7\\x00\\x00\\x00\\x07\\x01\\x00\\x00\\x06\\x00\\x14\\x00PK.npy\\x01\\x00\\x10\\x00\\x07\\x01\\x00\\x00\\x00\\x00\\x00\\x00\\xb7\\x00\\x00\\x00\\x00\\x00\\x00\\x00\\x9d\\x8d1N\\x041\\x10\\x04\\xc7c{l\\x8f\\xc7\\xe3/8\\xf3!mr\\x01\\x01<\\x80\\x0cDB@\\x84V\\xdc\"\\x82\\x13\\x87v\\x81\\x04x\\x05\\x1f\\xc6|\\x81\\xce\\xbaT\\xea\\xfe\\xb9\\xb9\\xbb\\xbe\\xbd7\\xf0\\x01\\x9f\\xfd\\xb0l\\x8fk\\xbfl\\xfd\\xeb}\\xdf\\xa7\\xd6\\x9fN\\xeb\\xdb:\\xbf<\\x9c\\xd6\\xc3\\xf2\\xc7\\xaf\\xe6\\xe3\\xb6\\x0c\\xbe=\\xcf\\xaf\\xcb\\xe8\\xbb\\x8b\\xa9\\xed\\xcf\\xcf\\xa6\\xf6\\xdd\\xfe\\x1b\\xa6\\x04>\\x14\\xa9\\xc4\\x84l\\xd8\\x19\\xb1\\x80\\x10\\xaah.\\xe4\\x12V\\x06\\xd6\\x8c\\x1cK\\xe6\\xa1\\x82\\xaa%\\x14C*\\\\$\\x8b\\x0b\\xe4<\\x04S\\x95=g\\x8a&\\t38N1\\x0f\\x10\\xbdG\\x8b\\x0e\\r\\xabx\\xe0\\x82Y\\xea8\\xa8%\\xdaX,U\\rU)\\x951\\xf3\\x0bPK\\x01\\x02\\x14\\x03\\x14\\x00\\x00\\x00\\x08\\x00\\x00\\x00!\\x00M\\xd0\\xda\\xa1\\xb7\\x00\\x00\\x00\\x07\\x01\\x00\\x00\\x06\\x00\\x00\\x00\\x00\\x00\\x00\\x00\\x00\\x00\\x00\\x00\\x80\\x01\\x00\\x00\\x00\\x00PK.npyPK\\x05\\x06\\x00\\x00\\x00\\x00\\x01\\x00\\x01\\x004\\x00\\x00\\x00\\xef\\x00\\x00\\x00\\x00\\x00'\n"
     ]
    }
   ],
   "source": [
    "with open(\"public_key_mceliece.npz\",\"rb\") as fh:\n",
    "    byte_stream = fh.read()\n",
    "    print(byte_stream)"
   ]
  },
  {
   "cell_type": "code",
   "execution_count": 5,
   "id": "8251ca26",
   "metadata": {},
   "outputs": [
    {
     "name": "stdout",
     "output_type": "stream",
     "text": [
      "b'PK\\x03\\x04\\x14\\x00\\x00\\x00\\x08\\x00\\x00\\x00!\\x00\\x96\\xd7l\\x00\\x91\\x00\\x00\\x00\\xd1\\x00\\x00\\x00\\x05\\x00\\x14\\x00S.npy\\x01\\x00\\x10\\x00\\xd1\\x00\\x00\\x00\\x00\\x00\\x00\\x00\\x91\\x00\\x00\\x00\\x00\\x00\\x00\\x00\\x9d\\x89\\xbb\\r\\xc20\\x14\\x00\\x9f_\\xe2O^b{\\x05w\\x06)\\re\\x18\\x80\\x0eDCA\\x85\\xac\\xc4\\x88\\x02\\x11\\xe4\\x00\\r0\\x05\\x0bcV\\xe0\\xba\\xbb\\xfblv\\xeb\\xed\\x9e\\xc1\\x03\\x9e~\\x88S\\x9f\\xfc\\xd2\\xf9\\xd7}\\xe1[\\xe7\\x8fc\\xba\\xa5p9\\x8ci\\x88\\xbf\\xbe\\n\\xe7)\\xe6>\\x9d\\xc25f\\x9fu\\xad\\xeb\\xe6\\xad{\\xbb\\xbf!\\xcbQ\\n!*\\x92E\\r\\xd6\\x94\\xac\\xa9I\\x03\\xaa\\n\\t\\x8d1\\x8d\\x00\\xcexi%\\xe4!I\\x11\\xa3\\x92j(\\x14\\xe3\\x88\\x94\\x87\\xb6\\xc8\\n\\x0e\\x8d\\x15\\xda\\x9aJi\\xf1\\x05PK\\x03\\x04\\x14\\x00\\x00\\x00\\x08\\x00\\x00\\x00!\\x00\\xfb!\\xf8\\xe6e\\x00\\x00\\x00a\\x01\\x00\\x00\\x05\\x00\\x14\\x00P.npy\\x01\\x00\\x10\\x00a\\x01\\x00\\x00\\x00\\x00\\x00\\x00e\\x00\\x00\\x00\\x00\\x00\\x00\\x00\\x9b\\xec\\x17\\xea\\x1b\\x10\\xc9\\xc8P\\xc6P\\xad\\x9e\\x92Z\\x9c\\\\\\xa4n\\xa5\\xa0^Sj\\xa8\\xae\\xa3\\xa0\\x9e\\x96_TR\\x94\\x98\\x17\\x9f_\\x94\\x92\\n\\x12wK\\xcc)N\\x05\\x8a\\x17g$\\x16\\xa4\\x02\\xf9\\x1a\\x86\\xa6:\\n\\x86\\xa6\\x9a:\\n\\xb5\\nd\\x02.\\x06\\x08`d\\x80\\x03$&2`\\xc4-\\x8d!\\xc4\\x88M\\x94dsqh@\\x15\\xc7e\\x0b\\\\\\x1c\\x00PK\\x03\\x04\\x14\\x00\\x00\\x00\\x08\\x00\\x00\\x00!\\x00\\x11b\\x9c\\xe8\\x90\\x00\\x00\\x00\\xd1\\x00\\x00\\x00\\x08\\x00\\x14\\x00Sinv.npy\\x01\\x00\\x10\\x00\\xd1\\x00\\x00\\x00\\x00\\x00\\x00\\x00\\x90\\x00\\x00\\x00\\x00\\x00\\x00\\x00\\x9d\\xc81\\x0e\\xc2 \\x14\\x80a(\\x0f\\xb0\\x8f\\x07\\\\\\x81\\rM\\xba8\\xd6\\x03\\xb8i\\\\\\x1c\\x9c\\x0c\\xb1\\x18\\x07c\\rU\\x17\\xf5\\x14^\\xd8z\\x05\\xff\\xed\\xff>\\xeb\\xedj\\xb3\\xe3\\xec\\xc1\\x9e\\xb1\\xcb\\xc3\\xa1\\xc4E\\x88\\xaf\\xfb<6!\\x1e\\xfbr+\\xe9\\xb2\\xefK\\x97\\x7f\\xbeL\\xe7!\\x8f>\\x9c\\xd25\\x8f?m\\x9b\\xd0\\xce\\x9a\\xf0\\x0e\\x7f\\x87\\x08\\x8c\\xa3\\xd3d\\xc0(\\xa4\\xba\\xf2NZ2H\\xcaX\\xa9\\xc1\\x81\\x91hp\\xe2\\x90\\xa0\\x1a\\x15Tm+\\xc9\\x05sL\\xa1%nQ\\x11XMZs\\xe4BH/\\xfc\\x17PK\\x03\\x04\\x14\\x00\\x00\\x00\\x08\\x00\\x00\\x00!\\x00\\x92m\\x9d\\x10c\\x00\\x00\\x00a\\x01\\x00\\x00\\x08\\x00\\x14\\x00Pinv.npy\\x01\\x00\\x10\\x00a\\x01\\x00\\x00\\x00\\x00\\x00\\x00c\\x00\\x00\\x00\\x00\\x00\\x00\\x00\\x9b\\xec\\x17\\xea\\x1b\\x10\\xc9\\xc8P\\xc6P\\xad\\x9e\\x92Z\\x9c\\\\\\xa4n\\xa5\\xa0^Sj\\xa8\\xae\\xa3\\xa0\\x9e\\x96_TR\\x94\\x98\\x17\\x9f_\\x94\\x92\\n\\x12wK\\xcc)N\\x05\\x8a\\x17g$\\x16\\xa4\\x02\\xf9\\x1a\\x86\\xa6:\\n\\x86\\xa6\\x9a:\\n\\xb5\\nd\\x02.\\x060`d@\\x05\\xe8|\\x98\\x00.q\\xc2\\xa2\\x8c\\xd8\\xc4\\xf0\\x0b\\xe1b\\xe35\\x83\\x11\\x9d\\x03\\x00PK\\x01\\x02\\x14\\x03\\x14\\x00\\x00\\x00\\x08\\x00\\x00\\x00!\\x00\\x96\\xd7l\\x00\\x91\\x00\\x00\\x00\\xd1\\x00\\x00\\x00\\x05\\x00\\x00\\x00\\x00\\x00\\x00\\x00\\x00\\x00\\x00\\x00\\x80\\x01\\x00\\x00\\x00\\x00S.npyPK\\x01\\x02\\x14\\x03\\x14\\x00\\x00\\x00\\x08\\x00\\x00\\x00!\\x00\\xfb!\\xf8\\xe6e\\x00\\x00\\x00a\\x01\\x00\\x00\\x05\\x00\\x00\\x00\\x00\\x00\\x00\\x00\\x00\\x00\\x00\\x00\\x80\\x01\\xc8\\x00\\x00\\x00P.npyPK\\x01\\x02\\x14\\x03\\x14\\x00\\x00\\x00\\x08\\x00\\x00\\x00!\\x00\\x11b\\x9c\\xe8\\x90\\x00\\x00\\x00\\xd1\\x00\\x00\\x00\\x08\\x00\\x00\\x00\\x00\\x00\\x00\\x00\\x00\\x00\\x00\\x00\\x80\\x01d\\x01\\x00\\x00Sinv.npyPK\\x01\\x02\\x14\\x03\\x14\\x00\\x00\\x00\\x08\\x00\\x00\\x00!\\x00\\x92m\\x9d\\x10c\\x00\\x00\\x00a\\x01\\x00\\x00\\x08\\x00\\x00\\x00\\x00\\x00\\x00\\x00\\x00\\x00\\x00\\x00\\x80\\x01.\\x02\\x00\\x00Pinv.npyPK\\x05\\x06\\x00\\x00\\x00\\x00\\x04\\x00\\x04\\x00\\xd2\\x00\\x00\\x00\\xcb\\x02\\x00\\x00\\x00\\x00'\n"
     ]
    }
   ],
   "source": [
    "with open(\"private_key_mceliece.npz\",\"rb\") as fh:\n",
    "    byte_stream = fh.read()\n",
    "    print(byte_stream)"
   ]
  },
  {
   "cell_type": "code",
   "execution_count": 6,
   "id": "b423168e",
   "metadata": {},
   "outputs": [
    {
     "name": "stdout",
     "output_type": "stream",
     "text": [
      "ALICE\n"
     ]
    }
   ],
   "source": [
    "with open(\"contoh\",\"r\") as file:\n",
    "    message = file.read()\n",
    "    print(message)"
   ]
  },
  {
   "cell_type": "code",
   "execution_count": 7,
   "id": "034b641b",
   "metadata": {},
   "outputs": [
    {
     "name": "stdout",
     "output_type": "stream",
     "text": [
      "konversi pesan asli: 0 11 8 2 4\n",
      "pesan vektor: [ 0 11  8  2  4  0  0  0  0]\n",
      "vektor eror: [ 0  0  0  7 12  3  0  0  0  0  0  0  0  0  0]\n",
      "codeword: [11  8  9 13  0  7  6  0 11 15 12 13  7  9  0]\n",
      "ciphertext: [11  8  9 10 12  4  6  0 11 15 12 13  7  9  0]\n",
      "codeword (cw): [ 0 10 13 12 11 12 11  8 15  9  4  0  7  9  6]\n",
      "decode codeword: [ 0 13 13  0 11 12 11  8 15]\n",
      "decode codeword dalam GF(2^4): [ 0 13 13  0 11 12 11  8 15]\n",
      "pesan: [ 0 11  8  2  4  0  0  0  0]\n",
      "pesan asli dalam vektor: [ 0 11  8  2  4]\n",
      "Kata terdekripsi: ALICE\n"
     ]
    }
   ],
   "source": [
    "convert_m = convert(message)\n",
    "print(\"konversi pesan asli:\", convert_m)\n",
    "symbol = padder(convert_m, k)\n",
    "print('pesan vektor:', symbol)\n",
    "e = galois_field(error_vector)\n",
    "print('vektor eror:', e)\n",
    "c = np.matmul(symbol, PK)\n",
    "print('codeword:', c)\n",
    "y = mceliece_encode(symbol, PK)\n",
    "print('ciphertext:', y)\n",
    "cw = np.matmul(y, Pinv)\n",
    "print('codeword (cw):', cw)\n",
    "d = rs.decode(cw)\n",
    "print('decode codeword:', d)\n",
    "x = galois_field(d)\n",
    "print('decode codeword dalam GF(2^4):', x)\n",
    "mes = mceliece_decode(y, Sinv, Pinv)\n",
    "print('pesan:', mes)\n",
    "unpadded_m = unpadder(mes)\n",
    "print('pesan asli dalam vektor:', unpadded_m)\n",
    "ori_message = konversi(\" \".join(map(str, unpadded_m)))\n",
    "print(\"Kata terdekripsi:\", ori_message)"
   ]
  },
  {
   "cell_type": "code",
   "execution_count": 8,
   "id": "88d50509",
   "metadata": {},
   "outputs": [
    {
     "name": "stdout",
     "output_type": "stream",
     "text": [
      "1 block telah dienkripsi\n",
      "ciphertext: [11  8  9 10 12  4  6  0 11 15 12 13  7  9  0]\n",
      "string ciphertext: 11 8 9 10 12 4 6 0 11 15 12 13 7 9 0\n",
      "Enkripsi selesai\n"
     ]
    }
   ],
   "source": [
    "#proses enkripsi file\n",
    "\n",
    "file_name = \"contoh\"\n",
    "public_key_mceliece = np.load(\"public_key_mceliece.npz\", allow_pickle=True)\n",
    "k = 9 \n",
    "field_size = 2**4\n",
    "    \n",
    "block = 0\n",
    "encodeds = []\n",
    "    \n",
    "convert_m = convert(message)\n",
    "symbol = padder(convert_m, 9)\n",
    "encoded = ''\n",
    "encode = mceliece_encode(symbol, public_key_mceliece)\n",
    "encode_str = \" \".join(str(i) for i in encode)\n",
    "block += 1\n",
    "encodeds.append(encode_str)\n",
    "print(\"{0} block telah dienkripsi\". format(block))\n",
    "print('ciphertext:',encode)\n",
    "fh = open(\"encode_\"+file_name, \"w\")\n",
    "fh.write(encode_str)\n",
    "fh.close()\n",
    "print('string ciphertext:',encode_str)\n",
    "print(\"Enkripsi selesai\")"
   ]
  },
  {
   "cell_type": "code",
   "execution_count": 9,
   "id": "cd2ee364",
   "metadata": {},
   "outputs": [
    {
     "name": "stdout",
     "output_type": "stream",
     "text": [
      "1 block telah dienkripsi\n",
      "ciphertext: [11  8  9 10 12  4  6  0 11 15 12 13  7  9  0]\n",
      "string ciphertext: 11 8 9 10 12 4 6 0 11 15 12 13 7 9 0\n",
      "Enkripsi selesai\n"
     ]
    }
   ],
   "source": [
    "mceliece_encrypt(\"contoh\", \"public_key_mceliece.npz\")"
   ]
  },
  {
   "cell_type": "code",
   "execution_count": 10,
   "id": "cbcb38ca",
   "metadata": {},
   "outputs": [
    {
     "name": "stdout",
     "output_type": "stream",
     "text": [
      "isi file: 11 8 9 10 12 4 6 0 11 15 12 13 7 9 0\n",
      "konversi isi dalam vektor: [11  8  9 10 12  4  6  0 11 15 12 13  7  9  0]\n",
      "1 block telah didekripsi dari 1 block\n",
      "pesan: [ 0 11  8  2  4  0  0  0  0]\n",
      "pesan asli dalam vektor: [ 0 11  8  2  4]\n",
      "original pesan: ALICE\n",
      "Dekripsi selesai\n"
     ]
    }
   ],
   "source": [
    "#proses dekripsi\n",
    "file_name = \"encode_contoh\"\n",
    "private_key_mceliece = np.load(\"private_key_mceliece.npz\", allow_pickle=True)\n",
    "\n",
    "field_size = 2**4\n",
    "    \n",
    "with open(file_name,\"r\") as file:\n",
    "    isi = file.read()\n",
    "        \n",
    "encoded = ''\n",
    "decodeds = []\n",
    "blok = 0\n",
    "convert_value = convertion(isi)\n",
    "galois_convert = galois_field(convert_value)\n",
    "decode = mceliece_decode(y, Sinv, Pinv)\n",
    "decode_str = \" \".join(str(i) for i in decode)\n",
    "blok += 1\n",
    "decodeds.append(decode_str)\n",
    "print('isi file:', isi)\n",
    "print('konversi isi dalam vektor:', galois_convert)\n",
    "print(\"{0} block telah didekripsi dari {1} block\". format(block, block))\n",
    "print('pesan:',decode)\n",
    "fh = open(\"decode_\"+file_name, \"w\")\n",
    "fh.write(ori_message)\n",
    "fh.close()\n",
    "print('pesan asli dalam vektor:',unpadded_m)\n",
    "print('original pesan:',ori_message)\n",
    "print(\"Dekripsi selesai\")"
   ]
  },
  {
   "cell_type": "code",
   "execution_count": 11,
   "id": "5b823adb",
   "metadata": {},
   "outputs": [
    {
     "name": "stdout",
     "output_type": "stream",
     "text": [
      "isi file: 11 8 9 10 12 4 6 0 11 15 12 13 7 9 0\n",
      "konversi isi dalam vektor: [11  8  9 10 12  4  6  0 11 15 12 13  7  9  0]\n",
      "1 block telah didekripsi dari 1 block\n",
      "pesan: [ 0 11  8  2  4  0  0  0  0]\n",
      "pesan asli dalam vektor: [ 0 11  8  2  4]\n",
      "original pesan: ALICE\n",
      "Dekripsi selesai\n"
     ]
    }
   ],
   "source": [
    "mceliece_decrypt(\"encode_contoh\", \"private_key_mceliece.npz\")"
   ]
  }
 ],
 "metadata": {
  "kernelspec": {
   "display_name": "Python 3 (ipykernel)",
   "language": "python",
   "name": "python3"
  },
  "language_info": {
   "codemirror_mode": {
    "name": "ipython",
    "version": 3
   },
   "file_extension": ".py",
   "mimetype": "text/x-python",
   "name": "python",
   "nbconvert_exporter": "python",
   "pygments_lexer": "ipython3",
   "version": "3.10.6"
  }
 },
 "nbformat": 4,
 "nbformat_minor": 5
}
